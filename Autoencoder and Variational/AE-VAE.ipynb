{
 "cells": [
  {
   "cell_type": "markdown",
   "metadata": {
    "id": "fw7NPdkwJtKA"
   },
   "source": [
    "## 0. Load package"
   ]
  },
  {
   "cell_type": "code",
   "execution_count": 1,
   "metadata": {
    "executionInfo": {
     "elapsed": 2423,
     "status": "ok",
     "timestamp": 1605468885318,
     "user": {
      "displayName": "Yuxin JIANG",
      "photoUrl": "",
      "userId": "08237551511886881536"
     },
     "user_tz": -480
    },
    "id": "ndprszpRrTgi"
   },
   "outputs": [],
   "source": [
    "import numpy as np\n",
    "import pandas as pd\n",
    "import torch\n",
    "import torch.nn as nn\n",
    "import torch.optim as optim\n",
    "import torch.nn.functional as F\n",
    "from torch.autograd import Variable\n",
    "from torch.autograd import Variable\n",
    "from torch.utils.data import Dataset, DataLoader, TensorDataset\n",
    "from sklearn.model_selection import train_test_split\n",
    "from operator import itemgetter"
   ]
  },
  {
   "cell_type": "markdown",
   "metadata": {
    "id": "f_Adr_TNGsTI"
   },
   "source": [
    "## **1. Data Preparing**"
   ]
  },
  {
   "cell_type": "markdown",
   "metadata": {
    "id": "dywrS71fIIZf"
   },
   "source": [
    "### 1.1 Divide the scoring data into training set, validation set and test set according to the ratio of 80%, 10%, and 10%"
   ]
  },
  {
   "cell_type": "code",
   "execution_count": 2,
   "metadata": {
    "executionInfo": {
     "elapsed": 7766,
     "status": "ok",
     "timestamp": 1605468990884,
     "user": {
      "displayName": "Yuxin JIANG",
      "photoUrl": "",
      "userId": "08237551511886881536"
     },
     "user_tz": -480
    },
    "id": "5pPrfSml9i1w"
   },
   "outputs": [],
   "source": [
    "ratings_title = ['UserID','MovieID', 'Rating', 'timestamps']\n",
    "ratings = pd.read_csv('./ml-1m/ratings.dat', sep='::', header=None, names=ratings_title, engine = 'python')\n",
    "\n",
    "ratings.sample(frac=1.0)\n",
    "train_set, test_set = train_test_split(ratings,test_size = 0.2)\n",
    "dev_set, test_set = train_test_split(test_set,test_size = 0.5)\n",
    "train_set = np.array(train_set, dtype = 'int')\n",
    "dev_set = np.array(dev_set, dtype = 'int')\n",
    "test_set = np.array(test_set, dtype = 'int')"
   ]
  },
  {
   "cell_type": "code",
   "execution_count": 3,
   "metadata": {
    "colab": {
     "base_uri": "https://localhost:8080/",
     "height": 206
    },
    "executionInfo": {
     "elapsed": 7072,
     "status": "ok",
     "timestamp": 1605468889977,
     "user": {
      "displayName": "Yuxin JIANG",
      "photoUrl": "",
      "userId": "08237551511886881536"
     },
     "user_tz": -480
    },
    "id": "17SrgRlcIVeW",
    "outputId": "78cc3363-fb33-4b70-9713-18770f4f7847"
   },
   "outputs": [
    {
     "data": {
      "text/html": [
       "<div>\n",
       "<style scoped>\n",
       "    .dataframe tbody tr th:only-of-type {\n",
       "        vertical-align: middle;\n",
       "    }\n",
       "\n",
       "    .dataframe tbody tr th {\n",
       "        vertical-align: top;\n",
       "    }\n",
       "\n",
       "    .dataframe thead th {\n",
       "        text-align: right;\n",
       "    }\n",
       "</style>\n",
       "<table border=\"1\" class=\"dataframe\">\n",
       "  <thead>\n",
       "    <tr style=\"text-align: right;\">\n",
       "      <th></th>\n",
       "      <th>UserID</th>\n",
       "      <th>MovieID</th>\n",
       "      <th>Rating</th>\n",
       "      <th>timestamps</th>\n",
       "    </tr>\n",
       "  </thead>\n",
       "  <tbody>\n",
       "    <tr>\n",
       "      <th>0</th>\n",
       "      <td>1</td>\n",
       "      <td>1193</td>\n",
       "      <td>5</td>\n",
       "      <td>978300760</td>\n",
       "    </tr>\n",
       "    <tr>\n",
       "      <th>1</th>\n",
       "      <td>1</td>\n",
       "      <td>661</td>\n",
       "      <td>3</td>\n",
       "      <td>978302109</td>\n",
       "    </tr>\n",
       "    <tr>\n",
       "      <th>2</th>\n",
       "      <td>1</td>\n",
       "      <td>914</td>\n",
       "      <td>3</td>\n",
       "      <td>978301968</td>\n",
       "    </tr>\n",
       "    <tr>\n",
       "      <th>3</th>\n",
       "      <td>1</td>\n",
       "      <td>3408</td>\n",
       "      <td>4</td>\n",
       "      <td>978300275</td>\n",
       "    </tr>\n",
       "    <tr>\n",
       "      <th>4</th>\n",
       "      <td>1</td>\n",
       "      <td>2355</td>\n",
       "      <td>5</td>\n",
       "      <td>978824291</td>\n",
       "    </tr>\n",
       "  </tbody>\n",
       "</table>\n",
       "</div>"
      ],
      "text/plain": [
       "   UserID  MovieID  Rating  timestamps\n",
       "0       1     1193       5   978300760\n",
       "1       1      661       3   978302109\n",
       "2       1      914       3   978301968\n",
       "3       1     3408       4   978300275\n",
       "4       1     2355       5   978824291"
      ]
     },
     "execution_count": 3,
     "metadata": {},
     "output_type": "execute_result"
    }
   ],
   "source": [
    "ratings.head()"
   ]
  },
  {
   "cell_type": "code",
   "execution_count": 4,
   "metadata": {
    "colab": {
     "base_uri": "https://localhost:8080/"
    },
    "executionInfo": {
     "elapsed": 7070,
     "status": "ok",
     "timestamp": 1605468889979,
     "user": {
      "displayName": "Yuxin JIANG",
      "photoUrl": "",
      "userId": "08237551511886881536"
     },
     "user_tz": -480
    },
    "id": "qvwIHbpLHhuL",
    "outputId": "cf79bc2b-ffb9-42b0-9142-b40db8f777f0"
   },
   "outputs": [
    {
     "name": "stdout",
     "output_type": "stream",
     "text": [
      "(800167, 4)\n",
      "(100021, 4)\n",
      "(100021, 4)\n"
     ]
    }
   ],
   "source": [
    "print(train_set.shape)\n",
    "print(dev_set.shape)\n",
    "print(test_set.shape)"
   ]
  },
  {
   "cell_type": "markdown",
   "metadata": {
    "id": "nI0ZtxKwIYJX"
   },
   "source": [
    "### 1.2 Convert the data into a list form ([ [User 1 rating of all movies], [User 2 rating of all movies] ...], and set the ratings of movies that the user has not rated to 0"
   ]
  },
  {
   "cell_type": "code",
   "execution_count": 5,
   "metadata": {
    "executionInfo": {
     "elapsed": 12839,
     "status": "ok",
     "timestamp": 1605469006329,
     "user": {
      "displayName": "Yuxin JIANG",
      "photoUrl": "",
      "userId": "08237551511886881536"
     },
     "user_tz": -480
    },
    "id": "wG3ke3SbAJJk"
   },
   "outputs": [],
   "source": [
    "nb_users = int(max(max(train_set[:,0]), max(dev_set[:,0]), max(test_set[:,0])))\n",
    "nb_movies = int(max(max(train_set[:,1]), max(dev_set[:,1]), max(test_set[:,1])))\n",
    "\n",
    "# Converting the data into an array with users in lines and movies in columns\n",
    "def convert(data):\n",
    "    new_data = []\n",
    "    #Match the user and movie in the corresponding local data. If the user has not evaluated the movie, then mark ‘0\n",
    "    for id_users in range(1, nb_users + 1):\n",
    "        #create The first level list, id_movies is the id of the movie that a user has seen\n",
    "        id_movies = data[:,1][data[:,0] == id_users]\n",
    "        #id_ratingsRate the rate of a movie for a user\n",
    "        id_ratings = data[:,2][data[:,0] == id_users]\n",
    "        #First create a list of all 0s, and then replace the rating score of the movie that the user evaluates with 0, then you can mark the movie that the user has not seen as 0\n",
    "        ratings = np.zeros(nb_movies)\n",
    "        #Because movieID starts from 1, and python starts from 0, so if you want rating to match python, -1\n",
    "        ratings[id_movies - 1] = id_ratings\n",
    "        #Merge the list created above into a list to be extracted by torch\n",
    "        new_data.append(list(ratings))\n",
    "    return new_data\n",
    "    \n",
    "train_set = convert(train_set)\n",
    "dev_set = convert(dev_set)\n",
    "test_set = convert(test_set)"
   ]
  },
  {
   "cell_type": "markdown",
   "metadata": {
    "id": "LNs_PpoSH3OY"
   },
   "source": [
    "### 1.3 Data loading pytorch comes with DataLoader"
   ]
  },
  {
   "cell_type": "code",
   "execution_count": 6,
   "metadata": {
    "executionInfo": {
     "elapsed": 3080,
     "status": "ok",
     "timestamp": 1605469037387,
     "user": {
      "displayName": "Yuxin JIANG",
      "photoUrl": "",
      "userId": "08237551511886881536"
     },
     "user_tz": -480
    },
    "id": "L8WNeUI3ASnK"
   },
   "outputs": [],
   "source": [
    "train_set = torch.FloatTensor(train_set)\n",
    "train_set = train_set[torch.sum(train_set!=0,axis=1)!=0] # Delete rows with all 0 ratings\n",
    "dev_set = torch.FloatTensor(dev_set)\n",
    "dev_set = dev_set[torch.sum(dev_set!=0,axis=1)!=0] # Delete rows with all 0 ratings\n",
    "test_set = torch.FloatTensor(test_set)\n",
    "test_set = test_set[torch.sum(test_set!=0,axis=1)!=0] # Delete rows with all 0 ratings\n",
    "\n",
    "train_dataset = TensorDataset(train_set)\n",
    "dev_dataset = TensorDataset(dev_set)\n",
    "test_dataset = TensorDataset(test_set)\n",
    "\n",
    "train_loader = DataLoader(dataset = train_dataset, batch_size = 16, shuffle = True)\n",
    "dev_loader = DataLoader(dataset = dev_dataset, batch_size = 16, shuffle = False)\n",
    "test_loader = DataLoader(dataset = test_dataset, batch_size = 16, shuffle = False)"
   ]
  },
  {
   "cell_type": "markdown",
   "metadata": {
    "id": "6tJCUIK0Ikv9"
   },
   "source": [
    "## **2. Auto Encoder**"
   ]
  },
  {
   "cell_type": "markdown",
   "metadata": {
    "id": "HUqUdgN0PC0o"
   },
   "source": [
    "### 2.1 Define the model and loss function"
   ]
  },
  {
   "cell_type": "code",
   "execution_count": 7,
   "metadata": {
    "executionInfo": {
     "elapsed": 1352,
     "status": "ok",
     "timestamp": 1605468943936,
     "user": {
      "displayName": "Yuxin JIANG",
      "photoUrl": "",
      "userId": "08237551511886881536"
     },
     "user_tz": -480
    },
    "id": "J9A3zguDIsE3"
   },
   "outputs": [],
   "source": [
    "class AE(nn.Module):\n",
    "  \"\"\"\n",
    "  Auto Encoder (AE) was originally used to learn the representation (encoding) of data. It can be broken down into two parts:\n",
    "\n",
    "  encoder: Reduce the dimensionality of the data;\n",
    "  decoder: It converts the encoding back to its original form. Due to the dimensionality reduction, the neural network needs to learn a low-dimensional representation of the input (latent space) in order to be able to reconstruct the input.\n",
    "\n",
    "  They can be used to predict new recommendations. In order to do this, the input and output are both click vectors (usually the input and output of AE are the same), we will use a large dropout after the input layer.\n",
    "  This means that the model will have to reconstruct the click vector, because an element in the input will be lost, so it has to learn to predict the recommended value of a given click vector.\n",
    "  \"\"\"\n",
    "  def __init__(self, nb_movies, device=\"cuda:0\"):\n",
    "    super(AE, self).__init__()\n",
    "    self.nb_movies = nb_movies\n",
    "    self.encoder = nn.Sequential(\n",
    "        nn.Linear(self.nb_movies, 512),\n",
    "        nn.Sigmoid(),\n",
    "        nn.Dropout(0.9),\n",
    "        nn.Linear(512, 80),\n",
    "        nn.Sigmoid(),\n",
    "        nn.Linear(80, 32),\n",
    "        nn.Sigmoid()\n",
    "        )\n",
    "    self.decoder = nn.Sequential(\n",
    "        nn.Linear(32, 80),\n",
    "        nn.Sigmoid(),\n",
    "        nn.Linear(80, 512),\n",
    "        nn.Sigmoid(),\n",
    "        nn.Linear(512, self.nb_movies)\n",
    "        )\n",
    "\n",
    "  def forward(self, x):\n",
    "    x = self.encoder(x)\n",
    "    x = self.decoder(x)\n",
    "    return x\n",
    "\n",
    "def loss_func(recon_x, x):\n",
    "  \"\"\"\n",
    "  For a user, he only scored some movies, so when calculating MSE, only consider the movies he has rated, and ignore the movies he has not rated.\n",
    "  The calculation principle of MSE here is, for example, the scoring data of 5 movies by 2 users is: [[1, 2, 0, 3, 4], [2, 3, 0, 0, 1]]\n",
    "  The scoring data after AE reconstruction is: [[1.1, 2.3, 0, 3.3, 4.7], [2.1, 3.2, 0, 0, 1.2]]\n",
    "  Then first calculate the square of the 2 norm of the two scoring data, and then divide by the number of movies that each user has rated to get the MSE of each user, and then use torch.mean to average to get the MSE of each batch\n",
    "  \"\"\"\n",
    "  MSE = torch.mean(torch.norm((x - recon_x), p=2, dim=1, keepdim=False)**2/torch.sum(recon_x!=0,axis=1))\n",
    "  return MSE"
   ]
  },
  {
   "cell_type": "markdown",
   "metadata": {
    "id": "t3tz3gEIPKON"
   },
   "source": [
    "### 2.2 Define training, validation and testing functions"
   ]
  },
  {
   "cell_type": "code",
   "execution_count": 8,
   "metadata": {
    "colab": {
     "base_uri": "https://localhost:8080/"
    },
    "executionInfo": {
     "elapsed": 384823,
     "status": "ok",
     "timestamp": 1605470100696,
     "user": {
      "displayName": "Yuxin JIANG",
      "photoUrl": "",
      "userId": "08237551511886881536"
     },
     "user_tz": -480
    },
    "id": "WOqhTH7AIssW",
    "outputId": "401a2f39-803e-43c0-f8e2-84fd70f7d5a4"
   },
   "outputs": [
    {
     "name": "stdout",
     "output_type": "stream",
     "text": [
      "\n",
      " ==================== Training Auto Encoder on device: cuda:0 ====================\n",
      "====> Epoch: 1 Training Average loss: 3.8532, Validating Average loss: 1.0675\n",
      "====> Epoch: 2 Training Average loss: 1.0200, Validating Average loss: 1.0205\n",
      "====> Epoch: 3 Training Average loss: 0.9981, Validating Average loss: 1.0166\n",
      "====> Epoch: 4 Training Average loss: 0.9962, Validating Average loss: 1.0152\n",
      "====> Epoch: 5 Training Average loss: 0.9956, Validating Average loss: 1.0189\n",
      "====> Epoch: 6 Training Average loss: 0.9956, Validating Average loss: 1.0162\n",
      "====> Epoch: 7 Training Average loss: 0.9954, Validating Average loss: 1.0164\n",
      "====> Epoch: 8 Training Average loss: 0.9947, Validating Average loss: 1.0198\n",
      "====> Epoch: 9 Training Average loss: 0.9941, Validating Average loss: 1.0193\n",
      "====> Epoch: 10 Training Average loss: 0.9939, Validating Average loss: 1.0168\n",
      "====> Epoch: 11 Training Average loss: 0.9924, Validating Average loss: 1.0214\n",
      "====> Epoch: 12 Training Average loss: 0.9915, Validating Average loss: 1.0177\n",
      "====> Epoch: 13 Training Average loss: 0.9894, Validating Average loss: 1.0170\n",
      "====> Epoch: 14 Training Average loss: 0.9881, Validating Average loss: 1.0197\n",
      "====> Epoch: 15 Training Average loss: 0.9873, Validating Average loss: 1.0160\n",
      "====> Epoch: 16 Training Average loss: 0.9846, Validating Average loss: 1.0148\n",
      "====> Epoch: 17 Training Average loss: 0.9831, Validating Average loss: 1.0170\n",
      "====> Epoch: 18 Training Average loss: 0.9819, Validating Average loss: 1.0178\n",
      "====> Epoch: 19 Training Average loss: 0.9789, Validating Average loss: 1.0172\n",
      "====> Epoch: 20 Training Average loss: 0.9780, Validating Average loss: 1.0170\n",
      "====> Epoch: 21 Training Average loss: 0.9760, Validating Average loss: 1.0169\n",
      "====> Epoch: 22 Training Average loss: 0.9763, Validating Average loss: 1.0193\n",
      "====> Epoch: 23 Training Average loss: 0.9732, Validating Average loss: 1.0177\n",
      "====> Epoch: 24 Training Average loss: 0.9729, Validating Average loss: 1.0229\n",
      "====> Epoch: 25 Training Average loss: 0.9710, Validating Average loss: 1.0166\n",
      "====> Epoch: 26 Training Average loss: 0.9683, Validating Average loss: 1.0230\n",
      "====> Epoch: 27 Training Average loss: 0.9681, Validating Average loss: 1.0217\n",
      "====> Epoch: 28 Training Average loss: 0.9654, Validating Average loss: 1.0249\n",
      "====> Epoch: 29 Training Average loss: 0.9654, Validating Average loss: 1.0244\n",
      "====> Epoch: 30 Training Average loss: 0.9639, Validating Average loss: 1.0239\n",
      "====> Epoch: 31 Training Average loss: 0.9632, Validating Average loss: 1.0189\n",
      "====> Epoch: 32 Training Average loss: 0.9617, Validating Average loss: 1.0246\n",
      "====> Epoch: 33 Training Average loss: 0.9597, Validating Average loss: 1.0215\n",
      "====> Epoch: 34 Training Average loss: 0.9585, Validating Average loss: 1.0258\n",
      "====> Epoch: 35 Training Average loss: 0.9597, Validating Average loss: 1.0247\n",
      "====> Epoch: 36 Training Average loss: 0.9568, Validating Average loss: 1.0246\n",
      "====> Epoch: 37 Training Average loss: 0.9563, Validating Average loss: 1.0242\n",
      "====> Epoch: 38 Training Average loss: 0.9533, Validating Average loss: 1.0316\n",
      "====> Epoch: 39 Training Average loss: 0.9535, Validating Average loss: 1.0300\n",
      "====> Epoch: 40 Training Average loss: 0.9514, Validating Average loss: 1.0266\n",
      "====> Epoch: 41 Training Average loss: 0.9503, Validating Average loss: 1.0319\n",
      "====> Epoch: 42 Training Average loss: 0.9489, Validating Average loss: 1.0274\n",
      "====> Epoch: 43 Training Average loss: 0.9471, Validating Average loss: 1.0313\n",
      "====> Epoch: 44 Training Average loss: 0.9452, Validating Average loss: 1.0250\n",
      "====> Epoch: 45 Training Average loss: 0.9431, Validating Average loss: 1.0314\n",
      "====> Epoch: 46 Training Average loss: 0.9423, Validating Average loss: 1.0407\n",
      "====> Epoch: 47 Training Average loss: 0.9435, Validating Average loss: 1.0336\n",
      "====> Epoch: 48 Training Average loss: 0.9393, Validating Average loss: 1.0367\n",
      "====> Epoch: 49 Training Average loss: 0.9389, Validating Average loss: 1.0353\n",
      "====> Epoch: 50 Training Average loss: 0.9387, Validating Average loss: 1.0351\n",
      "====> Epoch: 51 Training Average loss: 0.9342, Validating Average loss: 1.0439\n",
      "====> Epoch: 52 Training Average loss: 0.9356, Validating Average loss: 1.0357\n",
      "====> Epoch: 53 Training Average loss: 0.9327, Validating Average loss: 1.0429\n",
      "====> Epoch: 54 Training Average loss: 0.9310, Validating Average loss: 1.0362\n",
      "====> Epoch: 55 Training Average loss: 0.9287, Validating Average loss: 1.0400\n",
      "====> Epoch: 56 Training Average loss: 0.9295, Validating Average loss: 1.0376\n",
      "====> Epoch: 57 Training Average loss: 0.9275, Validating Average loss: 1.0357\n",
      "====> Epoch: 58 Training Average loss: 0.9264, Validating Average loss: 1.0380\n",
      "====> Epoch: 59 Training Average loss: 0.9265, Validating Average loss: 1.0322\n",
      "====> Epoch: 60 Training Average loss: 0.9238, Validating Average loss: 1.0384\n",
      "====> Epoch: 61 Training Average loss: 0.9225, Validating Average loss: 1.0399\n",
      "====> Epoch: 62 Training Average loss: 0.9228, Validating Average loss: 1.0365\n",
      "====> Epoch: 63 Training Average loss: 0.9205, Validating Average loss: 1.0372\n",
      "====> Epoch: 64 Training Average loss: 0.9201, Validating Average loss: 1.0404\n",
      "====> Epoch: 65 Training Average loss: 0.9194, Validating Average loss: 1.0416\n",
      "====> Epoch: 66 Training Average loss: 0.9184, Validating Average loss: 1.0345\n",
      "====> Epoch: 67 Training Average loss: 0.9151, Validating Average loss: 1.0446\n",
      "====> Epoch: 68 Training Average loss: 0.9150, Validating Average loss: 1.0447\n",
      "====> Epoch: 69 Training Average loss: 0.9156, Validating Average loss: 1.0335\n",
      "====> Epoch: 70 Training Average loss: 0.9126, Validating Average loss: 1.0401\n",
      "====> Epoch: 71 Training Average loss: 0.9134, Validating Average loss: 1.0423\n",
      "====> Epoch: 72 Training Average loss: 0.9133, Validating Average loss: 1.0372\n",
      "====> Epoch: 73 Training Average loss: 0.9115, Validating Average loss: 1.0381\n",
      "====> Epoch: 74 Training Average loss: 0.9097, Validating Average loss: 1.0370\n",
      "====> Epoch: 75 Training Average loss: 0.9104, Validating Average loss: 1.0395\n",
      "====> Epoch: 76 Training Average loss: 0.9082, Validating Average loss: 1.0390\n",
      "====> Epoch: 77 Training Average loss: 0.9077, Validating Average loss: 1.0356\n",
      "====> Epoch: 78 Training Average loss: 0.9063, Validating Average loss: 1.0411\n",
      "====> Epoch: 79 Training Average loss: 0.9059, Validating Average loss: 1.0376\n",
      "====> Epoch: 80 Training Average loss: 0.9037, Validating Average loss: 1.0408\n",
      "====> Epoch: 81 Training Average loss: 0.9053, Validating Average loss: 1.0358\n",
      "====> Epoch: 82 Training Average loss: 0.9028, Validating Average loss: 1.0417\n",
      "====> Epoch: 83 Training Average loss: 0.9038, Validating Average loss: 1.0419\n",
      "====> Epoch: 84 Training Average loss: 0.9021, Validating Average loss: 1.0358\n",
      "====> Epoch: 85 Training Average loss: 0.9010, Validating Average loss: 1.0395\n",
      "====> Epoch: 86 Training Average loss: 0.9006, Validating Average loss: 1.0433\n",
      "====> Epoch: 87 Training Average loss: 0.8983, Validating Average loss: 1.0411\n",
      "====> Epoch: 88 Training Average loss: 0.9010, Validating Average loss: 1.0461\n",
      "====> Epoch: 89 Training Average loss: 0.8975, Validating Average loss: 1.0434\n",
      "====> Epoch: 90 Training Average loss: 0.8975, Validating Average loss: 1.0376\n",
      "====> Epoch: 91 Training Average loss: 0.8967, Validating Average loss: 1.0395\n",
      "====> Epoch: 92 Training Average loss: 0.8964, Validating Average loss: 1.0374\n",
      "====> Epoch: 93 Training Average loss: 0.8944, Validating Average loss: 1.0394\n",
      "====> Epoch: 94 Training Average loss: 0.8965, Validating Average loss: 1.0369\n",
      "====> Epoch: 95 Training Average loss: 0.8941, Validating Average loss: 1.0399\n",
      "====> Epoch: 96 Training Average loss: 0.8948, Validating Average loss: 1.0444\n",
      "====> Epoch: 97 Training Average loss: 0.8932, Validating Average loss: 1.0418\n",
      "====> Epoch: 98 Training Average loss: 0.8919, Validating Average loss: 1.0456\n",
      "====> Epoch: 99 Training Average loss: 0.8939, Validating Average loss: 1.0406\n",
      "====> Epoch: 100 Training Average loss: 0.8920, Validating Average loss: 1.0385\n",
      "====> Epoch: 101 Training Average loss: 0.8908, Validating Average loss: 1.0438\n",
      "====> Epoch: 102 Training Average loss: 0.8903, Validating Average loss: 1.0436\n",
      "====> Epoch: 103 Training Average loss: 0.8901, Validating Average loss: 1.0411\n"
     ]
    },
    {
     "name": "stdout",
     "output_type": "stream",
     "text": [
      "====> Epoch: 104 Training Average loss: 0.8879, Validating Average loss: 1.0470\n",
      "====> Epoch: 105 Training Average loss: 0.8884, Validating Average loss: 1.0391\n",
      "====> Epoch: 106 Training Average loss: 0.8852, Validating Average loss: 1.0436\n",
      "====> Epoch: 107 Training Average loss: 0.8877, Validating Average loss: 1.0462\n",
      "====> Epoch: 108 Training Average loss: 0.8856, Validating Average loss: 1.0462\n",
      "====> Epoch: 109 Training Average loss: 0.8851, Validating Average loss: 1.0384\n",
      "====> Epoch: 110 Training Average loss: 0.8856, Validating Average loss: 1.0424\n",
      "====> Epoch: 111 Training Average loss: 0.8846, Validating Average loss: 1.0456\n",
      "====> Epoch: 112 Training Average loss: 0.8847, Validating Average loss: 1.0387\n",
      "====> Epoch: 113 Training Average loss: 0.8846, Validating Average loss: 1.0385\n",
      "====> Epoch: 114 Training Average loss: 0.8821, Validating Average loss: 1.0459\n",
      "====> Epoch: 115 Training Average loss: 0.8791, Validating Average loss: 1.0414\n",
      "====> Epoch: 116 Training Average loss: 0.8809, Validating Average loss: 1.0458\n",
      "====> Epoch: 117 Training Average loss: 0.8792, Validating Average loss: 1.0519\n",
      "====> Epoch: 118 Training Average loss: 0.8805, Validating Average loss: 1.0465\n",
      "====> Epoch: 119 Training Average loss: 0.8783, Validating Average loss: 1.0460\n",
      "====> Epoch: 120 Training Average loss: 0.8772, Validating Average loss: 1.0424\n",
      "====> Epoch: 121 Training Average loss: 0.8768, Validating Average loss: 1.0492\n",
      "====> Epoch: 122 Training Average loss: 0.8740, Validating Average loss: 1.0466\n",
      "====> Epoch: 123 Training Average loss: 0.8745, Validating Average loss: 1.0472\n",
      "====> Epoch: 124 Training Average loss: 0.8744, Validating Average loss: 1.0448\n",
      "====> Epoch: 125 Training Average loss: 0.8725, Validating Average loss: 1.0509\n",
      "====> Epoch: 126 Training Average loss: 0.8699, Validating Average loss: 1.0521\n",
      "====> Epoch: 127 Training Average loss: 0.8699, Validating Average loss: 1.0428\n",
      "====> Epoch: 128 Training Average loss: 0.8676, Validating Average loss: 1.0494\n",
      "====> Epoch: 129 Training Average loss: 0.8672, Validating Average loss: 1.0478\n",
      "====> Epoch: 130 Training Average loss: 0.8653, Validating Average loss: 1.0464\n",
      "====> Epoch: 131 Training Average loss: 0.8654, Validating Average loss: 1.0492\n",
      "====> Epoch: 132 Training Average loss: 0.8633, Validating Average loss: 1.0514\n",
      "====> Epoch: 133 Training Average loss: 0.8621, Validating Average loss: 1.0443\n",
      "====> Epoch: 134 Training Average loss: 0.8631, Validating Average loss: 1.0507\n",
      "====> Epoch: 135 Training Average loss: 0.8612, Validating Average loss: 1.0542\n",
      "====> Epoch: 136 Training Average loss: 0.8604, Validating Average loss: 1.0510\n",
      "====> Epoch: 137 Training Average loss: 0.8586, Validating Average loss: 1.0555\n",
      "====> Epoch: 138 Training Average loss: 0.8579, Validating Average loss: 1.0527\n",
      "====> Epoch: 139 Training Average loss: 0.8583, Validating Average loss: 1.0507\n",
      "====> Epoch: 140 Training Average loss: 0.8550, Validating Average loss: 1.0559\n",
      "====> Epoch: 141 Training Average loss: 0.8545, Validating Average loss: 1.0452\n",
      "====> Epoch: 142 Training Average loss: 0.8547, Validating Average loss: 1.0469\n",
      "====> Epoch: 143 Training Average loss: 0.8522, Validating Average loss: 1.0587\n",
      "====> Epoch: 144 Training Average loss: 0.8543, Validating Average loss: 1.0525\n",
      "====> Epoch: 145 Training Average loss: 0.8522, Validating Average loss: 1.0498\n",
      "====> Epoch: 146 Training Average loss: 0.8505, Validating Average loss: 1.0462\n",
      "====> Epoch: 147 Training Average loss: 0.8514, Validating Average loss: 1.0476\n",
      "====> Epoch: 148 Training Average loss: 0.8482, Validating Average loss: 1.0567\n",
      "====> Epoch: 149 Training Average loss: 0.8472, Validating Average loss: 1.0593\n",
      "====> Epoch: 150 Training Average loss: 0.8475, Validating Average loss: 1.0504\n",
      "====> Epoch: 151 Training Average loss: 0.8464, Validating Average loss: 1.0563\n",
      "====> Epoch: 152 Training Average loss: 0.8463, Validating Average loss: 1.0491\n",
      "====> Epoch: 153 Training Average loss: 0.8469, Validating Average loss: 1.0517\n",
      "====> Epoch: 154 Training Average loss: 0.8429, Validating Average loss: 1.0540\n",
      "====> Epoch: 155 Training Average loss: 0.8423, Validating Average loss: 1.0506\n",
      "====> Epoch: 156 Training Average loss: 0.8432, Validating Average loss: 1.0483\n",
      "====> Epoch: 157 Training Average loss: 0.8438, Validating Average loss: 1.0525\n",
      "====> Epoch: 158 Training Average loss: 0.8417, Validating Average loss: 1.0572\n",
      "====> Epoch: 159 Training Average loss: 0.8394, Validating Average loss: 1.0519\n",
      "====> Epoch: 160 Training Average loss: 0.8399, Validating Average loss: 1.0479\n",
      "====> Epoch: 161 Training Average loss: 0.8385, Validating Average loss: 1.0438\n",
      "====> Epoch: 162 Training Average loss: 0.8400, Validating Average loss: 1.0404\n",
      "====> Epoch: 163 Training Average loss: 0.8378, Validating Average loss: 1.0500\n",
      "====> Epoch: 164 Training Average loss: 0.8362, Validating Average loss: 1.0509\n",
      "====> Epoch: 165 Training Average loss: 0.8381, Validating Average loss: 1.0433\n",
      "====> Epoch: 166 Training Average loss: 0.8371, Validating Average loss: 1.0478\n",
      "====> Epoch: 167 Training Average loss: 0.8357, Validating Average loss: 1.0418\n",
      "====> Epoch: 168 Training Average loss: 0.8352, Validating Average loss: 1.0570\n",
      "====> Epoch: 169 Training Average loss: 0.8327, Validating Average loss: 1.0557\n",
      "====> Epoch: 170 Training Average loss: 0.8327, Validating Average loss: 1.0512\n",
      "====> Epoch: 171 Training Average loss: 0.8317, Validating Average loss: 1.0532\n",
      "====> Epoch: 172 Training Average loss: 0.8317, Validating Average loss: 1.0444\n",
      "====> Epoch: 173 Training Average loss: 0.8325, Validating Average loss: 1.0560\n",
      "====> Epoch: 174 Training Average loss: 0.8305, Validating Average loss: 1.0526\n",
      "====> Epoch: 175 Training Average loss: 0.8312, Validating Average loss: 1.0569\n",
      "====> Epoch: 176 Training Average loss: 0.8288, Validating Average loss: 1.0623\n",
      "====> Epoch: 177 Training Average loss: 0.8284, Validating Average loss: 1.0652\n",
      "====> Epoch: 178 Training Average loss: 0.8289, Validating Average loss: 1.0663\n",
      "====> Epoch: 179 Training Average loss: 0.8290, Validating Average loss: 1.0577\n",
      "====> Epoch: 180 Training Average loss: 0.8272, Validating Average loss: 1.0551\n",
      "====> Epoch: 181 Training Average loss: 0.8258, Validating Average loss: 1.0591\n",
      "====> Epoch: 182 Training Average loss: 0.8257, Validating Average loss: 1.0624\n",
      "====> Epoch: 183 Training Average loss: 0.8247, Validating Average loss: 1.0603\n",
      "====> Epoch: 184 Training Average loss: 0.8241, Validating Average loss: 1.0560\n",
      "====> Epoch: 185 Training Average loss: 0.8230, Validating Average loss: 1.0576\n",
      "====> Epoch: 186 Training Average loss: 0.8218, Validating Average loss: 1.0585\n",
      "====> Epoch: 187 Training Average loss: 0.8222, Validating Average loss: 1.0513\n",
      "====> Epoch: 188 Training Average loss: 0.8219, Validating Average loss: 1.0674\n",
      "====> Epoch: 189 Training Average loss: 0.8213, Validating Average loss: 1.0712\n",
      "====> Epoch: 190 Training Average loss: 0.8196, Validating Average loss: 1.0624\n",
      "====> Epoch: 191 Training Average loss: 0.8217, Validating Average loss: 1.0551\n",
      "====> Epoch: 192 Training Average loss: 0.8203, Validating Average loss: 1.0620\n",
      "====> Epoch: 193 Training Average loss: 0.8199, Validating Average loss: 1.0561\n",
      "====> Epoch: 194 Training Average loss: 0.8213, Validating Average loss: 1.0579\n",
      "====> Epoch: 195 Training Average loss: 0.8199, Validating Average loss: 1.0677\n",
      "====> Epoch: 196 Training Average loss: 0.8157, Validating Average loss: 1.0559\n",
      "====> Epoch: 197 Training Average loss: 0.8155, Validating Average loss: 1.0667\n",
      "====> Epoch: 198 Training Average loss: 0.8170, Validating Average loss: 1.0785\n",
      "====> Epoch: 199 Training Average loss: 0.8157, Validating Average loss: 1.0796\n",
      "====> Epoch: 200 Training Average loss: 0.8163, Validating Average loss: 1.0675\n",
      "\n",
      " ==================== Testing Auto Encoder on device: cuda:0 ====================\n",
      "Average test loss: 1.0503\n"
     ]
    }
   ],
   "source": [
    "def train(train_loader, dev_loader=None, is_validate=True, device=\"cuda:0\"):\n",
    "  ae.train()\n",
    "  total_loss = 0\n",
    "  for _, data in enumerate(train_loader, 0):\n",
    "    data = Variable(data[0]).to(device)\n",
    "    target = data.clone()\n",
    "    optimizer.zero_grad()\n",
    "    recon_x = ae.forward(data)\n",
    "    # In the optimization process, we only want to consider the movies that users have rated,\n",
    "    # Although we previously set the ratings of unrated movies by users to 0, we also need to set the ratings of unrated movies predicted by the model to 0.\n",
    "    # This will not accumulate to the loss, which will affect the weight update\n",
    "    recon_x[target == 0] = 0 \n",
    "    loss = loss_func(recon_x, data)\n",
    "    loss.backward()\n",
    "    total_loss += loss.item()\n",
    "    optimizer.step()\n",
    "    epoch_train_loss = total_loss / len(train_loader)\n",
    "\n",
    "  if (is_validate == True):\n",
    "    ae.eval()\n",
    "    total_loss = 0\n",
    "    with torch.no_grad():\n",
    "      for _, data in enumerate(dev_loader, 0):\n",
    "        data = Variable(data[0]).to(device)\n",
    "        target = data.clone()\n",
    "        recon_x = ae.forward(data)\n",
    "        recon_x[target == 0] = 0\n",
    "        loss = loss_func(recon_x, data)\n",
    "        total_loss += loss.item()\n",
    "        epoch_dev_loss = total_loss / len(dev_loader)\n",
    "    print('====> Epoch: {} Training Average loss: {:.4f}, Validating Average loss: {:.4f}'.format(epoch, epoch_train_loss, epoch_dev_loss))\n",
    "    return epoch_train_loss, epoch_dev_loss\n",
    "\n",
    "  else:\n",
    "    print('====> Epoch: {} Training Average loss: {:.4f}'.format(epoch, epoch_train_loss))\n",
    "    return epoch_train_loss\n",
    "\n",
    "def test(test_loader, device=\"cuda:0\"):\n",
    "  ae.eval()\n",
    "  total_loss = 0\n",
    "  with torch.no_grad():\n",
    "    for _, data in enumerate(test_loader, 0):\n",
    "      data = Variable(data[0]).to(device)\n",
    "      target = data.clone()\n",
    "      recon_x = ae.forward(data)\n",
    "      recon_x[target == 0] = 0\n",
    "      loss = loss_func(recon_x, data)\n",
    "      total_loss += loss.item()\n",
    "  print('Average test loss: {:.4f}'.format(total_loss / len(test_loader)))\n",
    "\n",
    "if __name__ == \"__main__\":\n",
    "  device = torch.device(\"cuda:0\" if torch.cuda.is_available() else \"cpu\")\n",
    "  ae = AE(nb_movies = nb_movies).to(device)\n",
    "  optimizer =  optim.Adam(ae.parameters(), lr=1e-4, betas=(0.9, 0.999), eps=1e-08, weight_decay=0)\n",
    "  EPOCH = 200\n",
    "  epoches_train_loss = []\n",
    "  epoches_dev_loss = []\n",
    "\n",
    "  print(\"\\n\", 20 * \"=\", \"Training Auto Encoder on device: {}\".format(device), 20 * \"=\")\n",
    "  for epoch in range(1, EPOCH + 1):\n",
    "    epoch_train_loss, epoch_dev_loss = train(train_loader, dev_loader = dev_loader)\n",
    "    epoches_train_loss.append(epoch_train_loss)\n",
    "    epoches_dev_loss.append(epoch_dev_loss)\n",
    "  print(\"\\n\", 20 * \"=\", \"Testing Auto Encoder on device: {}\".format(device), 20 * \"=\")\n",
    "  test(test_loader)"
   ]
  },
  {
   "cell_type": "markdown",
   "metadata": {
    "id": "mXU81_oWRz3S"
   },
   "source": [
    "### 2.3 Save and load models"
   ]
  },
  {
   "cell_type": "code",
   "execution_count": 9,
   "metadata": {
    "id": "87X-Lh5RRwNz"
   },
   "outputs": [],
   "source": [
    "# save the training model\n",
    "torch.save(ae.state_dict(), 'AutoEncoder.pkl')\n",
    "\n",
    "# load the trained model\n",
    "ae = torch.load('AutoEncoder.pkl')"
   ]
  },
  {
   "cell_type": "markdown",
   "metadata": {
    "id": "4-6IRUWzP0Wd"
   },
   "source": [
    "### 2.4 Plot a graph to show the loss change in the training and verification process: It can be found that the loss of the verification set has dropped first and then rises slightly. It is considered that the model is over-fitting + poor generalization ability"
   ]
  },
  {
   "cell_type": "code",
   "execution_count": 12,
   "metadata": {
    "colab": {
     "base_uri": "https://localhost:8080/",
     "height": 515
    },
    "executionInfo": {
     "elapsed": 1547,
     "status": "ok",
     "timestamp": 1605470312644,
     "user": {
      "displayName": "Yuxin JIANG",
      "photoUrl": "",
      "userId": "08237551511886881536"
     },
     "user_tz": -480
    },
    "id": "SORypM92IsnS",
    "outputId": "a146157e-ecfa-46eb-ba2a-29d5528ee693"
   },
   "outputs": [
    {
     "data": {
      "image/png": "[encoded data removed]",
      "text/plain": [
       "<Figure size 864x576 with 1 Axes>"
      ]
     },
     "metadata": {
      "needs_background": "light"
     },
     "output_type": "display_data"
    }
   ],
   "source": [
    "import matplotlib.pyplot as plt\n",
    "plt.figure(figsize = (12,8))\n",
    "plt.plot(np.arange(len(epoches_train_loss)), epoches_train_loss, color='r', label='training loss')\n",
    "plt.plot(np.arange(len(epoches_dev_loss)), epoches_dev_loss, color='b', label='validating loss')\n",
    "plt.xlabel('Steps')\n",
    "plt.ylabel('MSE-loss')\n",
    "plt.show()\n"
   ]
  },
  {
   "cell_type": "markdown",
   "metadata": {
    "id": "E4IrkY3Adh3G"
   },
   "source": [
    "## **3. Variational Auto Encoder**"
   ]
  },
  {
   "cell_type": "markdown",
   "metadata": {
    "id": "oy34192Vd1Al"
   },
   "source": [
    "### 3.1 Define the model and loss function"
   ]
  },
  {
   "cell_type": "code",
   "execution_count": 13,
   "metadata": {
    "executionInfo": {
     "elapsed": 1233,
     "status": "ok",
     "timestamp": 1605470953012,
     "user": {
      "displayName": "Yuxin JIANG",
      "photoUrl": "",
      "userId": "08237551511886881536"
     },
     "user_tz": -480
    },
    "id": "FvEj4FiKUU2g"
   },
   "outputs": [],
   "source": [
    "class VAE(nn.Module):\n",
    "\n",
    "  def __init__(self, nb_movies, device=\"cuda:0\"):\n",
    "    super(VAE, self).__init__()\n",
    "    self.nb_movies = nb_movies\n",
    "    self.encoder = nn.Sequential(\n",
    "        nn.Linear(self.nb_movies, 512),\n",
    "        nn.Sigmoid(),\n",
    "        nn.Dropout(0.9), # Need a larger dropout\n",
    "        nn.Linear(512, 80),\n",
    "        nn.Sigmoid()\n",
    "        )\n",
    "    self.fc1 = nn.Linear(80, 32)\n",
    "    self.fc2 = nn.Linear(80, 32)\n",
    "    self.decoder = nn.Sequential(\n",
    "        nn.Linear(32, 80),\n",
    "        nn.Sigmoid(),\n",
    "        nn.Linear(80, 512),\n",
    "        nn.Sigmoid(),\n",
    "        nn.Linear(512, self.nb_movies)\n",
    "        )\n",
    "    \n",
    "  # reparameterize\n",
    "  def reparameterize(self, mu, logvar):\n",
    "    eps = Variable(torch.randn(mu.size(0), mu.size(1))).to(device)\n",
    "    z = mu + eps * torch.exp(logvar/2) \n",
    "    return z\n",
    "\n",
    "  def forward(self, x):\n",
    "    out1, out2 = self.encoder(x), self.encoder(x)\n",
    "    mu = self.fc1(out1)\n",
    "    logvar = self.fc2(out2)\n",
    "    z = self.reparameterize(mu, logvar)\n",
    "    return self.decoder(z), mu, logvar\n",
    "\n",
    "def loss_func(recon_x, x, mu, logvar):\n",
    "  \"\"\"\n",
    "  The loss of VAE includes two parts:\n",
    "  One part is the average absolute error between the predicted result and the true result;\n",
    "  The other part is KL-divergence (KL divergence), which is used to measure the difference between the distribution of latent variables and the unit Gaussian distribution.\n",
    "  \"\"\"\n",
    "  MSE = torch.mean(torch.norm((x - recon_x), p=2, dim=1, keepdim=False)**2/torch.sum(recon_x!=0,axis=1))\n",
    "  KLD = -0.5 * torch.sum(1 + logvar - mu.pow(2) - logvar.exp())\n",
    "  return MSE + KLD"
   ]
  },
  {
   "cell_type": "markdown",
   "metadata": {
    "id": "PUffuiIkd6DN"
   },
   "source": [
    "### 3.2 Define training, validation and testing functions"
   ]
  },
  {
   "cell_type": "code",
   "execution_count": 14,
   "metadata": {
    "colab": {
     "base_uri": "https://localhost:8080/"
    },
    "executionInfo": {
     "elapsed": 529746,
     "status": "ok",
     "timestamp": 1605471486931,
     "user": {
      "displayName": "Yuxin JIANG",
      "photoUrl": "",
      "userId": "08237551511886881536"
     },
     "user_tz": -480
    },
    "id": "bPHi0HL2AVMK",
    "outputId": "42dcce6b-e802-41e5-905c-cea4bf13bf38"
   },
   "outputs": [
    {
     "name": "stdout",
     "output_type": "stream",
     "text": [
      "\n",
      " ==================== Training Variational Auto Encoder on device: cuda:0 ====================\n",
      "====> Epoch: 1 Training Average loss: 7.8470, Validating Average loss: 1.5987\n",
      "====> Epoch: 2 Training Average loss: 2.1356, Validating Average loss: 1.3609\n",
      "====> Epoch: 3 Training Average loss: 1.6246, Validating Average loss: 1.1745\n",
      "====> Epoch: 4 Training Average loss: 1.3480, Validating Average loss: 1.0744\n",
      "====> Epoch: 5 Training Average loss: 1.1938, Validating Average loss: 1.0363\n",
      "====> Epoch: 6 Training Average loss: 1.1162, Validating Average loss: 1.0301\n",
      "====> Epoch: 7 Training Average loss: 1.0769, Validating Average loss: 1.0296\n",
      "====> Epoch: 8 Training Average loss: 1.0543, Validating Average loss: 1.0327\n",
      "====> Epoch: 9 Training Average loss: 1.0384, Validating Average loss: 1.0309\n",
      "====> Epoch: 10 Training Average loss: 1.0283, Validating Average loss: 1.0271\n",
      "====> Epoch: 11 Training Average loss: 1.0199, Validating Average loss: 1.0290\n",
      "====> Epoch: 12 Training Average loss: 1.0146, Validating Average loss: 1.0314\n",
      "====> Epoch: 13 Training Average loss: 1.0101, Validating Average loss: 1.0271\n",
      "====> Epoch: 14 Training Average loss: 1.0062, Validating Average loss: 1.0212\n",
      "====> Epoch: 15 Training Average loss: 1.0035, Validating Average loss: 1.0235\n",
      "====> Epoch: 16 Training Average loss: 1.0010, Validating Average loss: 1.0212\n",
      "====> Epoch: 17 Training Average loss: 0.9997, Validating Average loss: 1.0179\n",
      "====> Epoch: 18 Training Average loss: 0.9976, Validating Average loss: 1.0205\n",
      "====> Epoch: 19 Training Average loss: 0.9963, Validating Average loss: 1.0203\n",
      "====> Epoch: 20 Training Average loss: 0.9955, Validating Average loss: 1.0185\n",
      "====> Epoch: 21 Training Average loss: 0.9945, Validating Average loss: 1.0180\n",
      "====> Epoch: 22 Training Average loss: 0.9946, Validating Average loss: 1.0152\n",
      "====> Epoch: 23 Training Average loss: 0.9934, Validating Average loss: 1.0156\n",
      "====> Epoch: 24 Training Average loss: 0.9930, Validating Average loss: 1.0157\n",
      "====> Epoch: 25 Training Average loss: 0.9924, Validating Average loss: 1.0159\n",
      "====> Epoch: 26 Training Average loss: 0.9915, Validating Average loss: 1.0148\n",
      "====> Epoch: 27 Training Average loss: 0.9920, Validating Average loss: 1.0166\n",
      "====> Epoch: 28 Training Average loss: 0.9913, Validating Average loss: 1.0172\n",
      "====> Epoch: 29 Training Average loss: 0.9910, Validating Average loss: 1.0157\n",
      "====> Epoch: 30 Training Average loss: 0.9900, Validating Average loss: 1.0137\n",
      "====> Epoch: 31 Training Average loss: 0.9899, Validating Average loss: 1.0131\n",
      "====> Epoch: 32 Training Average loss: 0.9896, Validating Average loss: 1.0108\n",
      "====> Epoch: 33 Training Average loss: 0.9901, Validating Average loss: 1.0151\n",
      "====> Epoch: 34 Training Average loss: 0.9893, Validating Average loss: 1.0146\n",
      "====> Epoch: 35 Training Average loss: 0.9886, Validating Average loss: 1.0128\n",
      "====> Epoch: 36 Training Average loss: 0.9886, Validating Average loss: 1.0150\n",
      "====> Epoch: 37 Training Average loss: 0.9882, Validating Average loss: 1.0141\n",
      "====> Epoch: 38 Training Average loss: 0.9888, Validating Average loss: 1.0119\n",
      "====> Epoch: 39 Training Average loss: 0.9880, Validating Average loss: 1.0132\n",
      "====> Epoch: 40 Training Average loss: 0.9875, Validating Average loss: 1.0126\n",
      "====> Epoch: 41 Training Average loss: 0.9876, Validating Average loss: 1.0155\n",
      "====> Epoch: 42 Training Average loss: 0.9878, Validating Average loss: 1.0129\n",
      "====> Epoch: 43 Training Average loss: 0.9875, Validating Average loss: 1.0120\n",
      "====> Epoch: 44 Training Average loss: 0.9875, Validating Average loss: 1.0128\n",
      "====> Epoch: 45 Training Average loss: 0.9870, Validating Average loss: 1.0137\n",
      "====> Epoch: 46 Training Average loss: 0.9871, Validating Average loss: 1.0101\n",
      "====> Epoch: 47 Training Average loss: 0.9870, Validating Average loss: 1.0111\n",
      "====> Epoch: 48 Training Average loss: 0.9878, Validating Average loss: 1.0127\n",
      "====> Epoch: 49 Training Average loss: 0.9865, Validating Average loss: 1.0132\n",
      "====> Epoch: 50 Training Average loss: 0.9862, Validating Average loss: 1.0118\n",
      "====> Epoch: 51 Training Average loss: 0.9860, Validating Average loss: 1.0082\n",
      "====> Epoch: 52 Training Average loss: 0.9859, Validating Average loss: 1.0105\n",
      "====> Epoch: 53 Training Average loss: 0.9861, Validating Average loss: 1.0127\n",
      "====> Epoch: 54 Training Average loss: 0.9858, Validating Average loss: 1.0101\n",
      "====> Epoch: 55 Training Average loss: 0.9860, Validating Average loss: 1.0113\n",
      "====> Epoch: 56 Training Average loss: 0.9855, Validating Average loss: 1.0141\n",
      "====> Epoch: 57 Training Average loss: 0.9859, Validating Average loss: 1.0139\n",
      "====> Epoch: 58 Training Average loss: 0.9859, Validating Average loss: 1.0077\n",
      "====> Epoch: 59 Training Average loss: 0.9849, Validating Average loss: 1.0085\n",
      "====> Epoch: 60 Training Average loss: 0.9856, Validating Average loss: 1.0110\n",
      "====> Epoch: 61 Training Average loss: 0.9849, Validating Average loss: 1.0098\n",
      "====> Epoch: 62 Training Average loss: 0.9850, Validating Average loss: 1.0141\n",
      "====> Epoch: 63 Training Average loss: 0.9851, Validating Average loss: 1.0093\n",
      "====> Epoch: 64 Training Average loss: 0.9845, Validating Average loss: 1.0114\n",
      "====> Epoch: 65 Training Average loss: 0.9845, Validating Average loss: 1.0101\n",
      "====> Epoch: 66 Training Average loss: 0.9843, Validating Average loss: 1.0121\n",
      "====> Epoch: 67 Training Average loss: 0.9839, Validating Average loss: 1.0103\n",
      "====> Epoch: 68 Training Average loss: 0.9845, Validating Average loss: 1.0089\n",
      "====> Epoch: 69 Training Average loss: 0.9836, Validating Average loss: 1.0086\n",
      "====> Epoch: 70 Training Average loss: 0.9844, Validating Average loss: 1.0069\n",
      "====> Epoch: 71 Training Average loss: 0.9843, Validating Average loss: 1.0076\n",
      "====> Epoch: 72 Training Average loss: 0.9838, Validating Average loss: 1.0059\n",
      "====> Epoch: 73 Training Average loss: 0.9834, Validating Average loss: 1.0089\n",
      "====> Epoch: 74 Training Average loss: 0.9840, Validating Average loss: 1.0125\n",
      "====> Epoch: 75 Training Average loss: 0.9835, Validating Average loss: 1.0102\n",
      "====> Epoch: 76 Training Average loss: 0.9833, Validating Average loss: 1.0115\n",
      "====> Epoch: 77 Training Average loss: 0.9834, Validating Average loss: 1.0063\n",
      "====> Epoch: 78 Training Average loss: 0.9829, Validating Average loss: 1.0129\n",
      "====> Epoch: 79 Training Average loss: 0.9829, Validating Average loss: 1.0080\n",
      "====> Epoch: 80 Training Average loss: 0.9831, Validating Average loss: 1.0067\n",
      "====> Epoch: 81 Training Average loss: 0.9833, Validating Average loss: 1.0061\n",
      "====> Epoch: 82 Training Average loss: 0.9830, Validating Average loss: 1.0106\n",
      "====> Epoch: 83 Training Average loss: 0.9827, Validating Average loss: 1.0108\n",
      "====> Epoch: 84 Training Average loss: 0.9828, Validating Average loss: 1.0085\n",
      "====> Epoch: 85 Training Average loss: 0.9823, Validating Average loss: 1.0116\n",
      "====> Epoch: 86 Training Average loss: 0.9825, Validating Average loss: 1.0103\n",
      "====> Epoch: 87 Training Average loss: 0.9831, Validating Average loss: 1.0089\n",
      "====> Epoch: 88 Training Average loss: 0.9825, Validating Average loss: 1.0116\n",
      "====> Epoch: 89 Training Average loss: 0.9822, Validating Average loss: 1.0091\n",
      "====> Epoch: 90 Training Average loss: 0.9821, Validating Average loss: 1.0088\n",
      "====> Epoch: 91 Training Average loss: 0.9822, Validating Average loss: 1.0066\n",
      "====> Epoch: 92 Training Average loss: 0.9826, Validating Average loss: 1.0103\n",
      "====> Epoch: 93 Training Average loss: 0.9820, Validating Average loss: 1.0081\n",
      "====> Epoch: 94 Training Average loss: 0.9815, Validating Average loss: 1.0082\n",
      "====> Epoch: 95 Training Average loss: 0.9823, Validating Average loss: 1.0072\n",
      "====> Epoch: 96 Training Average loss: 0.9821, Validating Average loss: 1.0087\n",
      "====> Epoch: 97 Training Average loss: 0.9816, Validating Average loss: 1.0085\n",
      "====> Epoch: 98 Training Average loss: 0.9818, Validating Average loss: 1.0078\n",
      "====> Epoch: 99 Training Average loss: 0.9824, Validating Average loss: 1.0093\n",
      "====> Epoch: 100 Training Average loss: 0.9815, Validating Average loss: 1.0064\n",
      "====> Epoch: 101 Training Average loss: 0.9811, Validating Average loss: 1.0077\n",
      "====> Epoch: 102 Training Average loss: 0.9814, Validating Average loss: 1.0071\n",
      "====> Epoch: 103 Training Average loss: 0.9817, Validating Average loss: 1.0072\n"
     ]
    },
    {
     "name": "stdout",
     "output_type": "stream",
     "text": [
      "====> Epoch: 104 Training Average loss: 0.9810, Validating Average loss: 1.0054\n",
      "====> Epoch: 105 Training Average loss: 0.9807, Validating Average loss: 1.0072\n",
      "====> Epoch: 106 Training Average loss: 0.9810, Validating Average loss: 1.0056\n",
      "====> Epoch: 107 Training Average loss: 0.9813, Validating Average loss: 1.0074\n",
      "====> Epoch: 108 Training Average loss: 0.9809, Validating Average loss: 1.0083\n",
      "====> Epoch: 109 Training Average loss: 0.9806, Validating Average loss: 1.0063\n",
      "====> Epoch: 110 Training Average loss: 0.9807, Validating Average loss: 1.0081\n",
      "====> Epoch: 111 Training Average loss: 0.9809, Validating Average loss: 1.0082\n",
      "====> Epoch: 112 Training Average loss: 0.9802, Validating Average loss: 1.0084\n",
      "====> Epoch: 113 Training Average loss: 0.9799, Validating Average loss: 1.0081\n",
      "====> Epoch: 114 Training Average loss: 0.9806, Validating Average loss: 1.0086\n",
      "====> Epoch: 115 Training Average loss: 0.9802, Validating Average loss: 1.0058\n",
      "====> Epoch: 116 Training Average loss: 0.9800, Validating Average loss: 1.0102\n",
      "====> Epoch: 117 Training Average loss: 0.9807, Validating Average loss: 1.0057\n",
      "====> Epoch: 118 Training Average loss: 0.9801, Validating Average loss: 1.0102\n",
      "====> Epoch: 119 Training Average loss: 0.9796, Validating Average loss: 1.0080\n",
      "====> Epoch: 120 Training Average loss: 0.9799, Validating Average loss: 1.0067\n",
      "====> Epoch: 121 Training Average loss: 0.9799, Validating Average loss: 1.0057\n",
      "====> Epoch: 122 Training Average loss: 0.9802, Validating Average loss: 1.0081\n",
      "====> Epoch: 123 Training Average loss: 0.9800, Validating Average loss: 1.0074\n",
      "====> Epoch: 124 Training Average loss: 0.9796, Validating Average loss: 1.0055\n",
      "====> Epoch: 125 Training Average loss: 0.9801, Validating Average loss: 1.0059\n",
      "====> Epoch: 126 Training Average loss: 0.9803, Validating Average loss: 1.0083\n",
      "====> Epoch: 127 Training Average loss: 0.9802, Validating Average loss: 1.0069\n",
      "====> Epoch: 128 Training Average loss: 0.9798, Validating Average loss: 1.0057\n",
      "====> Epoch: 129 Training Average loss: 0.9798, Validating Average loss: 1.0096\n",
      "====> Epoch: 130 Training Average loss: 0.9793, Validating Average loss: 1.0072\n",
      "====> Epoch: 131 Training Average loss: 0.9796, Validating Average loss: 1.0068\n",
      "====> Epoch: 132 Training Average loss: 0.9796, Validating Average loss: 1.0078\n",
      "====> Epoch: 133 Training Average loss: 0.9795, Validating Average loss: 1.0068\n",
      "====> Epoch: 134 Training Average loss: 0.9796, Validating Average loss: 1.0071\n",
      "====> Epoch: 135 Training Average loss: 0.9793, Validating Average loss: 1.0056\n",
      "====> Epoch: 136 Training Average loss: 0.9795, Validating Average loss: 1.0067\n",
      "====> Epoch: 137 Training Average loss: 0.9793, Validating Average loss: 1.0104\n",
      "====> Epoch: 138 Training Average loss: 0.9788, Validating Average loss: 1.0065\n",
      "====> Epoch: 139 Training Average loss: 0.9787, Validating Average loss: 1.0073\n",
      "====> Epoch: 140 Training Average loss: 0.9792, Validating Average loss: 1.0065\n",
      "====> Epoch: 141 Training Average loss: 0.9788, Validating Average loss: 1.0043\n",
      "====> Epoch: 142 Training Average loss: 0.9791, Validating Average loss: 1.0066\n",
      "====> Epoch: 143 Training Average loss: 0.9792, Validating Average loss: 1.0077\n",
      "====> Epoch: 144 Training Average loss: 0.9790, Validating Average loss: 1.0084\n",
      "====> Epoch: 145 Training Average loss: 0.9790, Validating Average loss: 1.0048\n",
      "====> Epoch: 146 Training Average loss: 0.9782, Validating Average loss: 1.0104\n",
      "====> Epoch: 147 Training Average loss: 0.9790, Validating Average loss: 1.0090\n",
      "====> Epoch: 148 Training Average loss: 0.9783, Validating Average loss: 1.0056\n",
      "====> Epoch: 149 Training Average loss: 0.9786, Validating Average loss: 1.0053\n",
      "====> Epoch: 150 Training Average loss: 0.9785, Validating Average loss: 1.0077\n",
      "====> Epoch: 151 Training Average loss: 0.9785, Validating Average loss: 1.0067\n",
      "====> Epoch: 152 Training Average loss: 0.9783, Validating Average loss: 1.0081\n",
      "====> Epoch: 153 Training Average loss: 0.9778, Validating Average loss: 1.0078\n",
      "====> Epoch: 154 Training Average loss: 0.9793, Validating Average loss: 1.0062\n",
      "====> Epoch: 155 Training Average loss: 0.9785, Validating Average loss: 1.0055\n",
      "====> Epoch: 156 Training Average loss: 0.9783, Validating Average loss: 1.0105\n",
      "====> Epoch: 157 Training Average loss: 0.9786, Validating Average loss: 1.0042\n",
      "====> Epoch: 158 Training Average loss: 0.9786, Validating Average loss: 1.0060\n",
      "====> Epoch: 159 Training Average loss: 0.9782, Validating Average loss: 1.0074\n",
      "====> Epoch: 160 Training Average loss: 0.9788, Validating Average loss: 1.0051\n",
      "====> Epoch: 161 Training Average loss: 0.9779, Validating Average loss: 1.0062\n",
      "====> Epoch: 162 Training Average loss: 0.9775, Validating Average loss: 1.0074\n",
      "====> Epoch: 163 Training Average loss: 0.9780, Validating Average loss: 1.0048\n",
      "====> Epoch: 164 Training Average loss: 0.9780, Validating Average loss: 1.0057\n",
      "====> Epoch: 165 Training Average loss: 0.9779, Validating Average loss: 1.0058\n",
      "====> Epoch: 166 Training Average loss: 0.9784, Validating Average loss: 1.0053\n",
      "====> Epoch: 167 Training Average loss: 0.9779, Validating Average loss: 1.0047\n",
      "====> Epoch: 168 Training Average loss: 0.9778, Validating Average loss: 1.0056\n",
      "====> Epoch: 169 Training Average loss: 0.9777, Validating Average loss: 1.0052\n",
      "====> Epoch: 170 Training Average loss: 0.9782, Validating Average loss: 1.0073\n",
      "====> Epoch: 171 Training Average loss: 0.9780, Validating Average loss: 1.0088\n",
      "====> Epoch: 172 Training Average loss: 0.9781, Validating Average loss: 1.0053\n",
      "====> Epoch: 173 Training Average loss: 0.9776, Validating Average loss: 1.0055\n",
      "====> Epoch: 174 Training Average loss: 0.9773, Validating Average loss: 1.0052\n",
      "====> Epoch: 175 Training Average loss: 0.9778, Validating Average loss: 1.0034\n",
      "====> Epoch: 176 Training Average loss: 0.9778, Validating Average loss: 1.0055\n",
      "====> Epoch: 177 Training Average loss: 0.9775, Validating Average loss: 1.0073\n",
      "====> Epoch: 178 Training Average loss: 0.9778, Validating Average loss: 1.0055\n",
      "====> Epoch: 179 Training Average loss: 0.9778, Validating Average loss: 1.0057\n",
      "====> Epoch: 180 Training Average loss: 0.9782, Validating Average loss: 1.0054\n",
      "====> Epoch: 181 Training Average loss: 0.9778, Validating Average loss: 1.0060\n",
      "====> Epoch: 182 Training Average loss: 0.9774, Validating Average loss: 1.0067\n",
      "====> Epoch: 183 Training Average loss: 0.9772, Validating Average loss: 1.0063\n",
      "====> Epoch: 184 Training Average loss: 0.9771, Validating Average loss: 1.0055\n",
      "====> Epoch: 185 Training Average loss: 0.9777, Validating Average loss: 1.0053\n",
      "====> Epoch: 186 Training Average loss: 0.9775, Validating Average loss: 1.0052\n",
      "====> Epoch: 187 Training Average loss: 0.9774, Validating Average loss: 1.0037\n",
      "====> Epoch: 188 Training Average loss: 0.9773, Validating Average loss: 1.0083\n",
      "====> Epoch: 189 Training Average loss: 0.9771, Validating Average loss: 1.0048\n",
      "====> Epoch: 190 Training Average loss: 0.9773, Validating Average loss: 1.0052\n",
      "====> Epoch: 191 Training Average loss: 0.9781, Validating Average loss: 1.0058\n",
      "====> Epoch: 192 Training Average loss: 0.9773, Validating Average loss: 1.0047\n",
      "====> Epoch: 193 Training Average loss: 0.9773, Validating Average loss: 1.0064\n",
      "====> Epoch: 194 Training Average loss: 0.9768, Validating Average loss: 1.0062\n",
      "====> Epoch: 195 Training Average loss: 0.9768, Validating Average loss: 1.0056\n",
      "====> Epoch: 196 Training Average loss: 0.9769, Validating Average loss: 1.0047\n",
      "====> Epoch: 197 Training Average loss: 0.9773, Validating Average loss: 1.0072\n",
      "====> Epoch: 198 Training Average loss: 0.9766, Validating Average loss: 1.0059\n",
      "====> Epoch: 199 Training Average loss: 0.9769, Validating Average loss: 1.0058\n",
      "====> Epoch: 200 Training Average loss: 0.9767, Validating Average loss: 1.0035\n",
      "\n",
      " ==================== Testing Variational Auto Encoder on device: cuda:0 ====================\n",
      "Average test loss: 0.9789\n"
     ]
    }
   ],
   "source": [
    "def train(train_loader, dev_loader=None, is_validate=True, device=\"cuda:0\"):\n",
    "  vae.train()\n",
    "  total_loss = 0\n",
    "  for _, data in enumerate(train_loader, 0):\n",
    "    data = Variable(data[0]).to(device)\n",
    "    target = data.clone()\n",
    "    optimizer.zero_grad()\n",
    "    recon_x, mu, logvar = vae.forward(data)\n",
    "    recon_x[target == 0] = 0\n",
    "    loss = loss_func(recon_x, data, mu, logvar)\n",
    "    loss.backward()\n",
    "    total_loss += loss.item()\n",
    "    optimizer.step()\n",
    "    epoch_train_loss = total_loss / len(train_loader)\n",
    "\n",
    "  if (is_validate == True):\n",
    "    vae.eval()\n",
    "    total_loss = 0\n",
    "    with torch.no_grad():\n",
    "      for _, data in enumerate(dev_loader, 0):\n",
    "        data = Variable(data[0]).to(device)\n",
    "        target = data.clone()\n",
    "        recon_x, mu, logvar = vae.forward(data)\n",
    "        recon_x[target == 0] = 0\n",
    "        loss = loss_func(recon_x, data, mu, logvar)\n",
    "        total_loss += loss.item()\n",
    "        epoch_dev_loss = total_loss / len(dev_loader)\n",
    "    print('====> Epoch: {} Training Average loss: {:.4f}, Validating Average loss: {:.4f}'.format(epoch, epoch_train_loss, epoch_dev_loss))\n",
    "    return epoch_train_loss, epoch_dev_loss\n",
    "\n",
    "  else:\n",
    "    print('====> Epoch: {} Training Average loss: {:.4f}'.format(epoch, epoch_train_loss))\n",
    "    return epoch_train_loss\n",
    "\n",
    "def test(test_loader, device=\"cuda:0\"):\n",
    "  vae.eval()\n",
    "  total_loss = 0\n",
    "  with torch.no_grad():\n",
    "    for _, data in enumerate(test_loader, 0):\n",
    "      data = Variable(data[0]).to(device)\n",
    "      target = data.clone()\n",
    "      recon_x, mu, logvar = vae.forward(data)\n",
    "      recon_x[target == 0] = 0\n",
    "      loss = loss_func(recon_x, data, mu, logvar)\n",
    "      total_loss += loss.item()\n",
    "  print('Average test loss: {:.4f}'.format(total_loss / len(test_loader)))\n",
    "\n",
    "if __name__ == \"__main__\":\n",
    "  device = torch.device(\"cuda:0\" if torch.cuda.is_available() else \"cpu\")\n",
    "  vae = VAE(nb_movies = nb_movies).to(device)\n",
    "  optimizer =  optim.Adam(vae.parameters(), lr=1e-4, betas=(0.9, 0.999), eps=1e-08, weight_decay=0)\n",
    "  EPOCH = 200\n",
    "  epoches_train_loss = []\n",
    "  epoches_dev_loss = []\n",
    "\n",
    "  print(\"\\n\", 20 * \"=\", \"Training Variational Auto Encoder on device: {}\".format(device), 20 * \"=\")\n",
    "  for epoch in range(1, EPOCH + 1):\n",
    "    epoch_train_loss, epoch_dev_loss = train(train_loader, dev_loader = dev_loader)\n",
    "    epoches_train_loss.append(epoch_train_loss)\n",
    "    epoches_dev_loss.append(epoch_dev_loss)\n",
    "  print(\"\\n\", 20 * \"=\", \"Testing Variational Auto Encoder on device: {}\".format(device), 20 * \"=\")\n",
    "  test(test_loader)"
   ]
  },
  {
   "cell_type": "markdown",
   "metadata": {
    "id": "whP5w_Lc_qWw"
   },
   "source": [
    "### 3.3 Plot a graph to show the loss change in the training and verification process. It is found that although the training loss of VAE is larger than AE, the validating loss and test loss are smaller than AE. The consideration is because the training loss of VAE contains two parts, so the training loss is too large; but the VAE model may capture more complex patterns in the data, making it perform better on the validation set and test set. "
   ]
  },
  {
   "cell_type": "code",
   "execution_count": 15,
   "metadata": {
    "colab": {
     "base_uri": "https://localhost:8080/",
     "height": 515
    },
    "executionInfo": {
     "elapsed": 1414,
     "status": "ok",
     "timestamp": 1605471495077,
     "user": {
      "displayName": "Yuxin JIANG",
      "photoUrl": "",
      "userId": "08237551511886881536"
     },
     "user_tz": -480
    },
    "id": "Stk1vrbEfkM1",
    "outputId": "1b626262-7a5b-4521-8630-0bdc5e384b54"
   },
   "outputs": [
    {
     "data": {
      "text/plain": [
       "<matplotlib.legend.Legend at 0x7f99f9af8470>"
      ]
     },
     "execution_count": 15,
     "metadata": {},
     "output_type": "execute_result"
    },
    {
     "data": {
      "image/png": "[encoded data removed]",
      "text/plain": [
       "<Figure size 864x576 with 1 Axes>"
      ]
     },
     "metadata": {
      "needs_background": "light"
     },
     "output_type": "display_data"
    }
   ],
   "source": [
    "import matplotlib.pyplot as plt\n",
    "plt.figure(figsize = (12,8))\n",
    "plt.plot(np.arange(len(epoches_train_loss)), epoches_train_loss, color='r', label='training loss')\n",
    "plt.plot(np.arange(len(epoches_dev_loss)), epoches_dev_loss, color='b', label='validating loss')\n",
    "plt.xlabel('Steps')\n",
    "plt.ylabel('MSE-loss')\n",
    "plt.legend()"
   ]
  },
  {
   "cell_type": "markdown",
   "metadata": {
    "id": "LRDJM3ECArls"
   },
   "source": [
    "## **4. Use the model to predict the movies that the user has not rated, and according to the predicted scores, recommend movies that the user has not watched**"
   ]
  },
  {
   "cell_type": "markdown",
   "metadata": {
    "id": "T36nVcojeiEv"
   },
   "source": [
    "### 4.1 Define the prediction function"
   ]
  },
  {
   "cell_type": "code",
   "execution_count": 16,
   "metadata": {
    "executionInfo": {
     "elapsed": 1356,
     "status": "ok",
     "timestamp": 1605472072694,
     "user": {
      "displayName": "Yuxin JIANG",
      "photoUrl": "",
      "userId": "08237551511886881536"
     },
     "user_tz": -480
    },
    "id": "fDzzf4JYAyQX"
   },
   "outputs": [],
   "source": [
    "#prediction\n",
    "def Prediction(model, movies, user_id, nb_recommend):\n",
    "    user_input = Variable(test_set[user_id - 1]).unsqueeze(0).to(device)\n",
    "    predict_output, _, _ = model.forward(user_input)\n",
    "    predict_output = predict_output.cpu().detach().numpy()\n",
    "    user_input = user_input.cpu().detach().numpy()\n",
    "    predicted_result = np.vstack([user_input, predict_output])\n",
    "    recommend = np.array(predicted_result)\n",
    "    trian_movie_id = np.array([i for i in range(1, nb_movies+1)]) #create a temporary index for movies since we are going to delete some movies that the user had seen\n",
    "    recommend = np.row_stack((recommend, trian_movie_id)) #insert that index into the result array, \n",
    "    recommend = recommend.T #transpose row and col Invert the rows and columns of the array\n",
    "    recommend = recommend.tolist() #tansfer into list for further process\n",
    "\n",
    "    movie_not_seen = [] #delete the rows comtaining the movies that the user had seen\n",
    "    for i in range(len(recommend)):\n",
    "        if recommend[i][0] == 0.0:\n",
    "            movie_not_seen.append(recommend[i])\n",
    "\n",
    "    movie_not_seen = sorted(movie_not_seen, key=itemgetter(1), reverse=True) #sort the movies by mark Sort the movies in descending order according to the predicted score\n",
    "\n",
    "    recommend_movie = [] #create list for recommended movies with the index we created recommended top20\n",
    "    for i in range(0, nb_recommend):\n",
    "        recommend_movie.append(movie_not_seen[i][2])\n",
    "\n",
    "    recommend_index = [] #get the real index in the original file of'movies.dat' by using the temporary index\n",
    "    for i in range(len(recommend_movie)):\n",
    "        recommend_index.append(movies[(movies.iloc[:,0]==recommend_movie[i])].index.tolist())\n",
    "\n",
    "    recommend_movie_name = [] #get a list of movie names using the real indexEnter the corresponding index and export the movie names\n",
    "    for i in range(len(recommend_index)):\n",
    "        np_movie = movies.iloc[recommend_index[i],1].values #transefer to np.array\n",
    "        list_movie = np_movie.tolist() #transfer to list\n",
    "        recommend_movie_name.append(list_movie)\n",
    "\n",
    "    print('Highly Recommended Moives for You:\\n')\n",
    "    for i in range(len(recommend_movie_name)):\n",
    "        print(str(recommend_movie_name[i]))\n",
    "    \n",
    "    return recommend_movie_name"
   ]
  },
  {
   "cell_type": "markdown",
   "metadata": {
    "id": "snJRCgx3emKd"
   },
   "source": [
    "### 4.2 To the designated user, recommend his most likely favorite movies from the movies he hasn’t watched"
   ]
  },
  {
   "cell_type": "code",
   "execution_count": 27,
   "metadata": {
    "colab": {
     "base_uri": "https://localhost:8080/"
    },
    "executionInfo": {
     "elapsed": 979,
     "status": "ok",
     "timestamp": 1605472083401,
     "user": {
      "displayName": "Yuxin JIANG",
      "photoUrl": "",
      "userId": "08237551511886881536"
     },
     "user_tz": -480
    },
    "id": "LMC_L9axA4VQ",
    "outputId": "ce7b5bfc-95d8-46a1-9e3c-e19a6c374a8e"
   },
   "outputs": [
    {
     "name": "stdout",
     "output_type": "stream",
     "text": [
      "Highly Recommended Moives for You:\n",
      "\n",
      "['Callejón de los milagros, El (1995)']\n",
      "['Lured (1947)']\n",
      "['Modulations (1998)']\n",
      "['Return with Honor (1998)']\n",
      "['Song of Freedom (1936)']\n",
      "['Lamerica (1994)']\n",
      "['Follow the Bitch (1998)']\n",
      "['Bittersweet Motel (2000)']\n",
      "['One Little Indian (1973)']\n",
      "['Skipped Parts (2000)']\n",
      "['Eighth Day, The (Le Huitième jour ) (1996)']\n",
      "['Zachariah (1971)']\n",
      "['Smashing Time (1967)']\n",
      "['Window to Paris (1994)']\n",
      "['Hour of the Pig, The (1993)']\n",
      "['Ulysses (Ulisse) (1954)']\n",
      "['Soft Fruit (1999)']\n",
      "['Firelight (1997)']\n",
      "['Gate of Heavenly Peace, The (1995)']\n",
      "['Sanjuro (1962)']\n"
     ]
    }
   ],
   "source": [
    "# Specify the user's ID\n",
    "user_id = 86\n",
    "# Specify the number of recommended movies\n",
    "nb_recommend = 20\n",
    "# Read the original movie data for query when recommending\n",
    "movies = pd.read_csv('ml-1m/movies.dat', sep = '::', header = None, engine = 'python', encoding = 'latin-1')\n",
    "\n",
    "# Use VAE model for prediction recommendation\n",
    "movie_for_you = Prediction(model = vae, movies = movies, user_id = user_id, nb_recommend = nb_recommend)"
   ]
  },
  {
   "cell_type": "code",
   "execution_count": null,
   "metadata": {},
   "outputs": [],
   "source": []
  }
 ],
 "metadata": {
  "accelerator": "GPU",
  "colab": {
   "authorship_tag": "ABX9TyOVIFrFbtBcOk936NgR/ySu",
   "collapsed_sections": [],
   "name": "auto encoder.ipynb",
   "provenance": [],
   "toc_visible": true
  },
  "kernelspec": {
   "display_name": "Python 3",
   "language": "python",
   "name": "python3"
  },
  "language_info": {
   "codemirror_mode": {
    "name": "ipython",
    "version": 3
   },
   "file_extension": ".py",
   "mimetype": "text/x-python",
   "name": "python",
   "nbconvert_exporter": "python",
   "pygments_lexer": "ipython3",
   "version": "3.6.9"
  }
 },
 "nbformat": 4,
 "nbformat_minor": 1
}
